{
 "cells": [
  {
   "cell_type": "code",
   "execution_count": 1,
   "id": "0c811a1a",
   "metadata": {},
   "outputs": [],
   "source": [
    "import pandas as pd\n",
    "#영도구 데이터\n",
    "sahagu = pd.read_html('https://www.yeongdo.go.kr/00672/01898/00860.web', encoding='utf-8')\n",
    "df1 = sahagu[1]\n",
    "df0 = sahagu[0]\n",
    "df2 = sahagu[2]\n"
   ]
  },
  {
   "cell_type": "code",
   "execution_count": 4,
   "id": "a8135cae",
   "metadata": {},
   "outputs": [
    {
     "name": "stdout",
     "output_type": "stream",
     "text": [
      "<class 'pandas.core.frame.DataFrame'>\n",
      "RangeIndex: 13 entries, 0 to 12\n",
      "Data columns (total 4 columns):\n",
      " #   Column  Non-Null Count  Dtype \n",
      "---  ------  --------------  ----- \n",
      " 0   연번      13 non-null     int64 \n",
      " 1   품 명     13 non-null     object\n",
      " 2   규 격     13 non-null     object\n",
      " 3   수수료     13 non-null     int64 \n",
      "dtypes: int64(2), object(2)\n",
      "memory usage: 548.0+ bytes\n",
      "<class 'pandas.core.frame.DataFrame'>\n",
      "RangeIndex: 54 entries, 0 to 53\n",
      "Data columns (total 4 columns):\n",
      " #   Column  Non-Null Count  Dtype \n",
      "---  ------  --------------  ----- \n",
      " 0   연번      54 non-null     int64 \n",
      " 1   품 명     54 non-null     object\n",
      " 2   규 격     54 non-null     object\n",
      " 3   수수료     54 non-null     int64 \n",
      "dtypes: int64(2), object(2)\n",
      "memory usage: 1.8+ KB\n",
      "<class 'pandas.core.frame.DataFrame'>\n",
      "RangeIndex: 75 entries, 0 to 74\n",
      "Data columns (total 4 columns):\n",
      " #   Column  Non-Null Count  Dtype \n",
      "---  ------  --------------  ----- \n",
      " 0   연번      75 non-null     int64 \n",
      " 1   품 명     75 non-null     object\n",
      " 2   규 격     75 non-null     object\n",
      " 3   수수료     75 non-null     int64 \n",
      "dtypes: int64(2), object(2)\n",
      "memory usage: 2.5+ KB\n",
      "None None None\n"
     ]
    }
   ],
   "source": [
    "print(df0.info(),df1.info(),df2.info())"
   ]
  },
  {
   "cell_type": "code",
   "execution_count": 3,
   "id": "668c3baa",
   "metadata": {},
   "outputs": [],
   "source": [
    "df0.loc[:,'연번'] = '가전제품'\n",
    "df0.to_csv('./data/가전제품.csv',index=False)"
   ]
  },
  {
   "cell_type": "code",
   "execution_count": 4,
   "id": "5c42f858",
   "metadata": {},
   "outputs": [
    {
     "name": "stderr",
     "output_type": "stream",
     "text": [
      "C:\\Users\\user\\AppData\\Local\\Temp\\ipykernel_12124\\1957749570.py:1: FutureWarning: Setting an item of incompatible dtype is deprecated and will raise in a future error of pandas. Value '가구류' has dtype incompatible with int64, please explicitly cast to a compatible dtype first.\n",
      "  df1.loc[:,'연번'] = '가구류'\n"
     ]
    }
   ],
   "source": [
    "df1.loc[:,'연번'] = '가구류'\n",
    "df1.to_csv('./data/가구류.csv',index=False)"
   ]
  },
  {
   "cell_type": "code",
   "execution_count": 5,
   "id": "603b2e21",
   "metadata": {},
   "outputs": [
    {
     "name": "stderr",
     "output_type": "stream",
     "text": [
      "C:\\Users\\user\\AppData\\Local\\Temp\\ipykernel_12124\\1710872297.py:1: FutureWarning: Setting an item of incompatible dtype is deprecated and will raise in a future error of pandas. Value '생활용품 및 기타' has dtype incompatible with int64, please explicitly cast to a compatible dtype first.\n",
      "  df2.loc[:,'연번']='생활용품 및 기타'\n"
     ]
    }
   ],
   "source": [
    "df2.loc[:,'연번']='생활용품 및 기타'\n",
    "df2.to_csv('./data/생활용품 및 기타.csv',index=False)"
   ]
  }
 ],
 "metadata": {
  "kernelspec": {
   "display_name": "yoloserver",
   "language": "python",
   "name": "python3"
  },
  "language_info": {
   "codemirror_mode": {
    "name": "ipython",
    "version": 3
   },
   "file_extension": ".py",
   "mimetype": "text/x-python",
   "name": "python",
   "nbconvert_exporter": "python",
   "pygments_lexer": "ipython3",
   "version": "3.11.13"
  }
 },
 "nbformat": 4,
 "nbformat_minor": 5
}
